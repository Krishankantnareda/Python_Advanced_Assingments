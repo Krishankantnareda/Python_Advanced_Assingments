{
 "cells": [
  {
   "cell_type": "raw",
   "id": "468e1e64-0fb2-4aef-9325-567ceb6cc384",
   "metadata": {},
   "source": [
    "Q1. What are the two latest user-defined exception constraints in Python 3.X?"
   ]
  },
  {
   "cell_type": "markdown",
   "id": "1dba07f4-4966-432d-adba-e208a9d85ec8",
   "metadata": {},
   "source": [
    "User-Defined Exception in Python\n",
    "Exceptions need to be derived from the Exception class, either directly or indirectly. Although not mandatory, most of the exceptions are named as names that end in “Error” similar to the naming of the standard exceptions in python. For example,\n"
   ]
  },
  {
   "cell_type": "code",
   "execution_count": 5,
   "id": "20f81b3d-d75b-4174-a370-8bc25615e229",
   "metadata": {},
   "outputs": [
    {
     "name": "stdout",
     "output_type": "stream",
     "text": [
      "A New Exception occurred:  6\n"
     ]
    }
   ],
   "source": [
    "# A python program to create user-defined exception\n",
    "# class MyError is derived from super class Exception\n",
    "class MyError(Exception):\n",
    "\n",
    "\t# Constructor or Initializer\n",
    "\tdef __init__(self, value):\n",
    "\t\tself.value = value\n",
    "\n",
    "\t# __str__ is to print() the value\n",
    "\tdef __str__(self):\n",
    "\t\treturn(repr(self.value))\n",
    "\n",
    "\n",
    "try:\n",
    "\traise(MyError(3*2))\n",
    "\n",
    "# Value of Exception is stored in error\n",
    "except MyError as error:\n",
    "\tprint('A New Exception occurred: ', error.value)\n"
   ]
  },
  {
   "cell_type": "raw",
   "id": "d41b40d0-86a0-48b9-bd65-ed9cf0abbcda",
   "metadata": {},
   "source": [
    "Q2. How are class-based exceptions that have been raised matched to handlers?"
   ]
  },
  {
   "cell_type": "markdown",
   "id": "9a342430-e00c-49e7-b570-9eeb4f9d2dc5",
   "metadata": {},
   "source": [
    "Class-based exceptions are either raised by the ABAP statement RAISE EXCEPTION or by the ABAP runtime environment. If a class-based exception occurs, the system interrupts the normal program flow and tries to find a suitable handler. If it does not find a handler, a runtime error occurs."
   ]
  },
  {
   "cell_type": "raw",
   "id": "a7ceeeee-8016-4c46-9e37-2f49220c462d",
   "metadata": {},
   "source": [
    "Q3. Describe two methods for attaching context information to exception artefacts."
   ]
  },
  {
   "cell_type": "markdown",
   "id": "45c8775c-d896-4979-b416-9d605c60bf60",
   "metadata": {},
   "source": [
    "Certainly! Here are two methods for attaching context information to exception artifacts:\n",
    "\n",
    "Raising a new exception: You can raise a new exception with the original exception as the cause. This can be done by using the from keyword in the raise statement. For example, you can raise a new exception with the original exception as follows:\n"
   ]
  },
  {
   "cell_type": "code",
   "execution_count": 6,
   "id": "638b04d3-4a7f-46b3-b822-5c773ab2cb5c",
   "metadata": {},
   "outputs": [
    {
     "ename": "IndentationError",
     "evalue": "expected an indented block after 'try' statement on line 1 (2090009074.py, line 3)",
     "output_type": "error",
     "traceback": [
      "\u001b[0;36m  Cell \u001b[0;32mIn [6], line 3\u001b[0;36m\u001b[0m\n\u001b[0;31m    except Exception as e:\u001b[0m\n\u001b[0m    ^\u001b[0m\n\u001b[0;31mIndentationError\u001b[0m\u001b[0;31m:\u001b[0m expected an indented block after 'try' statement on line 1\n"
     ]
    }
   ],
   "source": [
    "try:\n",
    "    # some code that might raise an exception\n",
    "except Exception as e:\n",
    "    raise Exception(\"An error occurred\") from e\n",
    "#  In this example, the new exception is raised with the original exception as its cause.\n",
    "#  This allows you to attach additional context information to the exception."
   ]
  },
  {
   "cell_type": "markdown",
   "id": "24c245ed-4d07-44af-b89c-d49fcaa8f039",
   "metadata": {},
   "source": [
    "Using a custom exception class: You can create a custom exception class that includes additional context information. For example, you can create a custom exception class as follows:"
   ]
  },
  {
   "cell_type": "code",
   "execution_count": 7,
   "id": "fc06ac6f-660d-47b8-932d-1f3e2aa7d0ca",
   "metadata": {},
   "outputs": [],
   "source": [
    "class MyException(Exception):\n",
    "    def __init__(self, message, context):\n",
    "        super().__init__(message)\n",
    "        self.context = context\n",
    "#In this example, the MyException class inherits from the built-in Exception class and includes an additional context attribute.\n",
    "# we can then raise this exception with the appropriate context information as follows:"
   ]
  },
  {
   "cell_type": "raw",
   "id": "d74c9cc7-02f8-4a21-ba45-889de71d61a5",
   "metadata": {},
   "source": [
    "Q4. Describe two methods for specifying the text of an exception object&#39;s error message."
   ]
  },
  {
   "cell_type": "markdown",
   "id": "faf68418-97c9-49bf-a6bb-cd3a10b48068",
   "metadata": {},
   "source": [
    "Certainly! Here are two methods for specifying the text of an exception object’s error message:\n",
    "\n",
    "Passing a string to the exception constructor: You can pass a string to the exception constructor to specify the error message. For example:"
   ]
  },
  {
   "cell_type": "code",
   "execution_count": 8,
   "id": "fdfcc784-d300-42dd-9772-3938d12550a4",
   "metadata": {},
   "outputs": [
    {
     "ename": "Exception",
     "evalue": "An error occurred",
     "output_type": "error",
     "traceback": [
      "\u001b[0;31m---------------------------------------------------------------------------\u001b[0m",
      "\u001b[0;31mException\u001b[0m                                 Traceback (most recent call last)",
      "Cell \u001b[0;32mIn [8], line 1\u001b[0m\n\u001b[0;32m----> 1\u001b[0m \u001b[38;5;28;01mraise\u001b[39;00m \u001b[38;5;167;01mException\u001b[39;00m(\u001b[38;5;124m\"\u001b[39m\u001b[38;5;124mAn error occurred\u001b[39m\u001b[38;5;124m\"\u001b[39m)\n",
      "\u001b[0;31mException\u001b[0m: An error occurred"
     ]
    }
   ],
   "source": [
    "raise Exception(\"An error occurred\")\n",
    "#In this example, the string “An error occurred” is passed to the Exception constructor, which sets the error message of the exception.\n",
    "\n"
   ]
  },
  {
   "cell_type": "markdown",
   "id": "8c0df4be-254b-44c9-be32-ecd4f2207334",
   "metadata": {},
   "source": [
    "Subclassing an exception class: You can create a custom exception class that inherits from a built-in exception class and overrides its __init__() method to set the error message. For example:"
   ]
  },
  {
   "cell_type": "code",
   "execution_count": 9,
   "id": "3fe2a4db-0c14-4038-9457-d90ce1c52ab3",
   "metadata": {},
   "outputs": [],
   "source": [
    "class MyException(Exception):\n",
    "    def __init__(self, message):\n",
    "        super().__init__(message)\n",
    "#In this example, the MyException class inherits from the built-in Exception class and overrides its __init__() method to set the error message.\n"
   ]
  },
  {
   "cell_type": "code",
   "execution_count": 10,
   "id": "77a9ad93-9675-4c62-9077-df171d199682",
   "metadata": {},
   "outputs": [
    {
     "ename": "MyException",
     "evalue": "An error occurred",
     "output_type": "error",
     "traceback": [
      "\u001b[0;31m---------------------------------------------------------------------------\u001b[0m",
      "\u001b[0;31mMyException\u001b[0m                               Traceback (most recent call last)",
      "Cell \u001b[0;32mIn [10], line 2\u001b[0m\n\u001b[1;32m      1\u001b[0m \u001b[38;5;66;03m# we should go with this\u001b[39;00m\n\u001b[0;32m----> 2\u001b[0m \u001b[38;5;28;01mraise\u001b[39;00m MyException(\u001b[38;5;124m\"\u001b[39m\u001b[38;5;124mAn error occurred\u001b[39m\u001b[38;5;124m\"\u001b[39m)\n",
      "\u001b[0;31mMyException\u001b[0m: An error occurred"
     ]
    }
   ],
   "source": [
    "# we should go with this\n",
    "raise MyException(\"An error occurred\")"
   ]
  },
  {
   "cell_type": "raw",
   "id": "727d6d64-ceaa-4fce-9868-39c5e869d241",
   "metadata": {},
   "source": [
    "Q5. Why do you no longer use string-based exceptions?"
   ]
  },
  {
   "cell_type": "markdown",
   "id": "799d0659-98ee-46d3-a104-4c5a173176fa",
   "metadata": {},
   "source": [
    "In Python, string-based exceptions were used in earlier versions of the language. However, they were deprecated in Python 2.5 and removed in Python 3.0 . The reason for this is that string-based exceptions are not very informative and do not provide much context about the error that occurred. They also make it difficult to catch specific types of exceptions because they are all represented by the same string type .\n",
    "\n",
    "Instead of string-based exceptions, Python now uses exception classes to represent different types of errors. These classes can be customized to include additional information about the error, such as error codes or messages. This makes it easier to catch specific types of exceptions and provides more context about the error that occurred ."
   ]
  }
 ],
 "metadata": {
  "kernelspec": {
   "display_name": "Python 3 (ipykernel)",
   "language": "python",
   "name": "python3"
  },
  "language_info": {
   "codemirror_mode": {
    "name": "ipython",
    "version": 3
   },
   "file_extension": ".py",
   "mimetype": "text/x-python",
   "name": "python",
   "nbconvert_exporter": "python",
   "pygments_lexer": "ipython3",
   "version": "3.10.6"
  }
 },
 "nbformat": 4,
 "nbformat_minor": 5
}
