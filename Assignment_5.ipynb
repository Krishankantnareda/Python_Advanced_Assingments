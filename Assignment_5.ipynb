{
 "cells": [
  {
   "cell_type": "raw",
   "id": "f665ec09-1797-4948-a53c-f4dab4db261f",
   "metadata": {},
   "source": [
    "Q1. What is the meaning of multiple inheritance?"
   ]
  },
  {
   "cell_type": "markdown",
   "id": "c79347ba-f0eb-466f-a1ff-66a5420b4e61",
   "metadata": {},
   "source": [
    "Ans.\n",
    "Multiple Inheritance in python is a well-known feature that is supported by all the major object-oriented programming languages. It can be described as a process where the child class or object inherits the methods and attributes from one or more parent classes."
   ]
  },
  {
   "cell_type": "raw",
   "id": "6b9650e7-1772-41b2-9c5a-3aa4c3bf3868",
   "metadata": {},
   "source": [
    "Q2. What is the concept of delegation?"
   ]
  },
  {
   "cell_type": "markdown",
   "id": "5a4f1e47-4e0c-44a8-9169-25a7f8468a66",
   "metadata": {},
   "source": [
    "Ans.\n",
    "Delegation is the assignment of authority to another person (normally from a manager to a subordinate) to carry out specific activities. It is the process of distributing and entrusting work to another person, and therefore one of the core concepts of management leadership."
   ]
  },
  {
   "cell_type": "raw",
   "id": "24da406d-4a6a-49c6-9f60-5a08919aa391",
   "metadata": {},
   "source": [
    "Q3. What is the concept of composition?"
   ]
  },
  {
   "cell_type": "markdown",
   "id": "6501c1e2-33f4-4a57-aae0-fc6e72de9a6a",
   "metadata": {},
   "source": [
    "Ans.\n",
    "Composition is one of the fundamental concepts in object-oriented programming. It describes a class that references one or more objects of other classes in instance variables. This allows you to model a has-a association between objects."
   ]
  },
  {
   "cell_type": "raw",
   "id": "6d48dba3-fe97-4a0a-941a-01f9b14e8baa",
   "metadata": {},
   "source": [
    "Q4. What are bound methods and how do we use them?"
   ]
  },
  {
   "cell_type": "markdown",
   "id": "3a3381a6-1abd-43c7-a1ee-dc6df53f80cc",
   "metadata": {},
   "source": [
    "Ans.\n",
    "A bound method is the one which is dependent on the instance of the class as the first argument. It passes the instance as the first argument which is used to access the variables and functions. In Python 3 and newer versions of python, all functions in the class are by default bound methods."
   ]
  },
  {
   "cell_type": "raw",
   "id": "cde88576-d0b1-4c67-81e6-64756db8e114",
   "metadata": {},
   "source": [
    "Q5. What is the purpose of pseudoprivate attributes?"
   ]
  },
  {
   "cell_type": "markdown",
   "id": "45ae5aa6-ee8a-4ee0-a9aa-74eef8ff6b1f",
   "metadata": {},
   "source": [
    "Ans.\n",
    "The purpose of pseudoprivate attributes is to prevent name classes and accidental access in subclasses. Pseudoprivate attributes are those that start with two underscores (__) but do not end with two underscores (__) in a class definition. For example, __x is a pseudoprivate attribute.\n",
    "Pseudoprivate attributes are not really private, as they can still be accessed by using the mangled name. However, they provide a way to signal that these attributes are intended to be used only within the defining class or by code that knows what it is doing."
   ]
  }
 ],
 "metadata": {
  "kernelspec": {
   "display_name": "Python 3 (ipykernel)",
   "language": "python",
   "name": "python3"
  },
  "language_info": {
   "codemirror_mode": {
    "name": "ipython",
    "version": 3
   },
   "file_extension": ".py",
   "mimetype": "text/x-python",
   "name": "python",
   "nbconvert_exporter": "python",
   "pygments_lexer": "ipython3",
   "version": "3.10.6"
  }
 },
 "nbformat": 4,
 "nbformat_minor": 5
}
