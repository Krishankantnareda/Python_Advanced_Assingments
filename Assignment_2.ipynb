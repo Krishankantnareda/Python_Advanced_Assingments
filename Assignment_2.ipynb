{
 "cells": [
  {
   "cell_type": "raw",
   "id": "b0d02338-983f-4079-9a9d-89fc5c0d0aff",
   "metadata": {},
   "source": [
    "Q1. What is the relationship between classes and modules?"
   ]
  },
  {
   "cell_type": "markdown",
   "id": "343ff4d4-81fa-476a-a102-93b131e08a18",
   "metadata": {},
   "source": [
    "Ans.\n",
    "Modules are collections of methods and constants. They cannot generate instances. Classes may generate instances (objects), and have per-instance state (instance variables)."
   ]
  },
  {
   "cell_type": "raw",
   "id": "f3cfc268-afa6-47ec-8162-1dedf19ef1f1",
   "metadata": {},
   "source": [
    "Q2. How do you make instances and classes?"
   ]
  },
  {
   "cell_type": "markdown",
   "id": "1a24a285-56b9-46dc-ad85-f2c13f64e571",
   "metadata": {},
   "source": [
    "Ans.\n",
    "To create instances of a class, you call the class using class name and pass in whatever arguments its __init__ method accepts."
   ]
  },
  {
   "cell_type": "raw",
   "id": "ccbf8895-e465-4c3b-913c-988e814c5fa2",
   "metadata": {},
   "source": [
    "Q3. Where and how should be class attributes created?"
   ]
  },
  {
   "cell_type": "markdown",
   "id": "f0a4fead-65c8-46f2-a9eb-3d43367e7df3",
   "metadata": {},
   "source": [
    "ANS.\n",
    "A class attribute is shared by all instances of the class. To define a class attribute, you place it outside of the __init__() method. Use class_name. class_attribute or object_name."
   ]
  },
  {
   "cell_type": "raw",
   "id": "9fc3979b-db58-42a1-b1ec-f6d736bfebb1",
   "metadata": {},
   "source": [
    "Q4. Where and how are instance attributes created?"
   ]
  },
  {
   "cell_type": "markdown",
   "id": "e3c07839-fd10-4ce2-904a-cbf5e73e2610",
   "metadata": {},
   "source": [
    "Ans.\n",
    "Instance attributes are attributes or properties attached to an instance of a class. Instance attributes are defined in the constructor. Defined directly inside a class. Defined inside a constructor using the self parameter."
   ]
  },
  {
   "cell_type": "raw",
   "id": "92ddb051-bef3-4bb2-b293-fef1327b5cf0",
   "metadata": {},
   "source": [
    "Q5. What does the term self in a Python class mean?"
   ]
  },
  {
   "cell_type": "markdown",
   "id": "fdf525cc-8f83-4f63-9788-c84689bf0a72",
   "metadata": {},
   "source": [
    "ANS.\n",
    "SELF represents the instance of class. This handy keyword allows you to access variables, attributes, and methods of a defined class in Python. The self parameter doesn't have to be named “self,” as you can call it by any other name."
   ]
  },
  {
   "cell_type": "raw",
   "id": "229c2cf0-8729-493d-8964-d3f1122d4a52",
   "metadata": {},
   "source": [
    "Q6. How does a Python class handle operator overloading?"
   ]
  },
  {
   "cell_type": "markdown",
   "id": "529368b4-0235-46a6-af3c-05e255dc6a8f",
   "metadata": {},
   "source": [
    "Ans.\n",
    "To perform operator overloading, Python provides some special function or magic function that is automatically invoked when it is associated with that particular operator. For example, when we use + operator, the magic method __add__ is automatically invoked in which the operation for + operator is defined"
   ]
  },
  {
   "cell_type": "raw",
   "id": "68939206-3fa7-4735-b8a3-311323f019c3",
   "metadata": {},
   "source": [
    "Q8. What is the most popular form of operator overloading?"
   ]
  },
  {
   "cell_type": "markdown",
   "id": "60544867-013f-470c-9743-5ceaa6d71306",
   "metadata": {},
   "source": [
    "Ans.\n",
    "Operator overloading is the process of using an operator in different ways depending on the operands. You can change the way an operator in Python works on different data-types. A very popular and convenient example is the Addition (+) operator."
   ]
  },
  {
   "cell_type": "raw",
   "id": "05caaae5-5106-47de-a517-6244bc599344",
   "metadata": {},
   "source": [
    "Q9. What are the two most important concepts to grasp in order to comprehend Python OOP code?"
   ]
  },
  {
   "cell_type": "markdown",
   "id": "1d4c5ac0-de2d-4b2a-a9c1-cd0b95206db6",
   "metadata": {},
   "source": [
    "Ans.\n",
    "The object oriented programming is based on real world entities like inheritance, polymorphism"
   ]
  },
  {
   "cell_type": "raw",
   "id": "4e8cf15c-73b6-4162-81cf-e73e21e79e76",
   "metadata": {},
   "source": [
    "Q7. When do you consider allowing operator overloading of your classes?"
   ]
  },
  {
   "cell_type": "markdown",
   "id": "ed675c33-b44f-4b77-bd1b-529a8a2bcf48",
   "metadata": {},
   "source": [
    "Ans.\n"
   ]
  }
 ],
 "metadata": {
  "kernelspec": {
   "display_name": "Python 3 (ipykernel)",
   "language": "python",
   "name": "python3"
  },
  "language_info": {
   "codemirror_mode": {
    "name": "ipython",
    "version": 3
   },
   "file_extension": ".py",
   "mimetype": "text/x-python",
   "name": "python",
   "nbconvert_exporter": "python",
   "pygments_lexer": "ipython3",
   "version": "3.10.6"
  }
 },
 "nbformat": 4,
 "nbformat_minor": 5
}
