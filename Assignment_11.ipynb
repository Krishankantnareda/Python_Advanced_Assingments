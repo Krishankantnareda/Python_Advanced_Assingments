{
 "cells": [
  {
   "cell_type": "raw",
   "id": "dac80d44-d5b5-43bb-a513-f4a97aa14b02",
   "metadata": {},
   "source": [
    "Q1. What is the concept of a metaclass?"
   ]
  },
  {
   "cell_type": "markdown",
   "id": "75000b29-7925-4b2e-8040-e529facb66e3",
   "metadata": {},
   "source": [
    "A metaclass in Python is a class of a class that defines how a class behaves. A class is itself an instance of a metaclass. A class in Python defines how the instance of the class will behave. In order to understand metaclasses well, one needs to have prior experience working with Python classes."
   ]
  },
  {
   "cell_type": "raw",
   "id": "d50b0404-7fcd-405a-a67f-1e9d9aacf0dd",
   "metadata": {},
   "source": [
    "Q2. What is the best way to declare a class's metaclass"
   ]
  },
  {
   "cell_type": "markdown",
   "id": "664909ac-d202-4b93-83aa-67b4e84afaf1",
   "metadata": {},
   "source": [
    "In Python, we can customize the class creation process by passing the metaclass keyword in the class definition. This can also be done by inheriting a class that has already passed in this keyword. We can see below that the type of MyMeta class is type and that the type of MyClass and MySubClass is MyMeta"
   ]
  },
  {
   "cell_type": "raw",
   "id": "dd657315-6fc7-4908-927f-d73050e950a8",
   "metadata": {},
   "source": [
    "Q3. How do class decorators overlap with metaclasses for handling classes?"
   ]
  },
  {
   "cell_type": "markdown",
   "id": "342c538a-02b4-47a7-bac6-988318dd00ab",
   "metadata": {},
   "source": [
    "Class decorators and metaclasses are both mechanisms in Python for manipulating or adding functionality to classes. While they serve similar purposes, they are used in different ways.\n",
    "\n",
    "Class decorators are used to modify or enhance the behavior of a single class. They are functions that take a class as input and return a new modified class. Class decorators can be applied to a class using the @ symbol.\n",
    "\n",
    "On the other hand, metaclasses are used to define the behavior of a class itself. They are defined as a class and are responsible for creating and controlling the creation of classes. Metaclasses can be used to set class attributes, alter class inheritance, or modify class methods.\n",
    "\n",
    "In summary, class decorators are used to modify individual classes, whereas metaclasses are used to define the behavior of classes as a whole. Although they both can manipulate classes, they serve  "
   ]
  }
 ],
 "metadata": {
  "kernelspec": {
   "display_name": "",
   "name": ""
  },
  "language_info": {
   "name": ""
  }
 },
 "nbformat": 4,
 "nbformat_minor": 5
}
