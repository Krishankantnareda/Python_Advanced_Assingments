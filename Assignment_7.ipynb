{
 "cells": [
  {
   "cell_type": "raw",
   "id": "88c17b9a-9b50-4cfc-8777-281790af0202",
   "metadata": {},
   "source": [
    "Q1. What is the purpose of the try statement?"
   ]
  },
  {
   "cell_type": "markdown",
   "id": "0cc4d12a-d00c-4724-9d94-fdcda02d224a",
   "metadata": {},
   "source": [
    "A Try statement is a code block that allows your program to take alternative actions in case an error occurs. Python will first attempt to execute the code in the try statement (code block 1). If no exception occurs,then the except statement is skipped and the execution of the try statement is finished."
   ]
  },
  {
   "cell_type": "raw",
   "id": "838b9503-7ede-48c3-ba81-529ea108001c",
   "metadata": {},
   "source": [
    "Q2. What are the two most popular try statement variations?"
   ]
  },
  {
   "cell_type": "markdown",
   "id": "b4ac088c-d94f-4681-b7f7-ee5fe833a076",
   "metadata": {},
   "source": [
    "The Different Try Variations:-->\n",
    "\n",
    "There are two other optional segments to a try block: else and finally . Both of these optional blocks will come after the try and the except . Also, there's nothing stopping we from using both else and finally in a single statement — but we need to keep them in that order "
   ]
  },
  {
   "cell_type": "raw",
   "id": "3484e1ad-bc02-47c3-8216-424733f35e8a",
   "metadata": {},
   "source": [
    "Q3. What is the purpose of the raise statement?"
   ]
  },
  {
   "cell_type": "markdown",
   "id": "1383c5ce-8a68-47bf-8eb7-1cd0c690823e",
   "metadata": {},
   "source": [
    "Python raise Keyword is used to raise exceptions or errors. The raise keyword raises an error and stops the control flow of the program. It is used to bring up the current exception in an exception handler so that it can be handled further up the call stack"
   ]
  },
  {
   "cell_type": "raw",
   "id": "8668c48c-c830-4483-8f52-7243671b7f9e",
   "metadata": {},
   "source": [
    "Q4. What does the assert statement do, and what other statement is it like?"
   ]
  },
  {
   "cell_type": "markdown",
   "id": "11d89c02-ae96-4b6d-a752-a5acbef37acb",
   "metadata": {},
   "source": [
    "Python has built-in assert statement to use assertion condition in the program. assert statement has a condition or expression which is supposed to be always true. If the condition is false assert halts the program and gives an AssertionError\n",
    "\n",
    "In Python we can use assert statement in two ways as mentioned above.\n",
    "\n",
    "assert statement has a condition and if the condition is not satisfied the program will stop and give AssertionError.\n",
    "assert statement can also have a condition and a optional error message. If the condition is not satisfied assert stops the program and gives AssertionError along with the error message."
   ]
  },
  {
   "cell_type": "code",
   "execution_count": null,
   "id": "15448b34-a88f-45d7-9d92-e8b9e6a89045",
   "metadata": {},
   "outputs": [],
   "source": [
    "def avg(marks):\n",
    "    assert len(marks) != 0,\"List is empty.\"\n",
    "    return sum(marks)/len(marks)\n",
    "\n",
    "mark2 = [55,88,78,90,79]\n",
    "print(\"Average of mark2:\",avg(mark2))\n",
    "\n",
    "mark1 = []\n",
    "print(\"Average of mark1:\",avg(mark1))"
   ]
  },
  {
   "cell_type": "markdown",
   "id": "401b6f5a-c8d3-41d2-94f4-3b65f575ea65",
   "metadata": {},
   "source": [
    "We passed a non-empty list mark2 and also an empty list mark1 to the avg() function and we got output for mark2 list but after that we got an error AssertionError: List is empty. The assert condition was satisfied by the mark2 list and program to continue to run. However, mark1 doesn't satisfy the condition and gives an AssertionError."
   ]
  },
  {
   "cell_type": "raw",
   "id": "0d603642-1cf5-4261-b8a2-3e52d3e1bca8",
   "metadata": {},
   "source": [
    "Q5. What is the purpose of the with/as argument, and what other statement is it like?"
   ]
  },
  {
   "cell_type": "markdown",
   "id": "65d3dc55-89df-420e-9639-cf4e3ebd903e",
   "metadata": {},
   "source": [
    "In Python, the with statement replaces a try-catch block with a concise shorthand. More importantly, it ensures closing resources right after processing them. A common example of using the with statement is reading or writing to a file.\n",
    "A function or class that supports the with statement is known as a context manager."
   ]
  },
  {
   "cell_type": "code",
   "execution_count": 1,
   "id": "36199a2c-9de0-41a9-903f-18928d907c4b",
   "metadata": {},
   "outputs": [],
   "source": [
    "# file handling\n",
    "\n",
    "#   ****** without using with statement\n",
    "file = open('file_path', 'w')\n",
    "file.write('hello world !')\n",
    "file.close()\n",
    "\n",
    "# ******** without using with statement\n",
    "file = open('file_path', 'w')\n",
    "try:\n",
    "\tfile.write('hello world')\n",
    "finally:\n",
    "\tfile.close()\n",
    "    \n",
    "\n",
    "# using with statement\n",
    "with open('file_path', 'w') as file:\n",
    "    file.write('hello world !')     # to save it we need to close the file but with the help of with statement \n",
    "#                                     we don't need to look at it "
   ]
  }
 ],
 "metadata": {
  "kernelspec": {
   "display_name": "Python 3 (ipykernel)",
   "language": "python",
   "name": "python3"
  },
  "language_info": {
   "codemirror_mode": {
    "name": "ipython",
    "version": 3
   },
   "file_extension": ".py",
   "mimetype": "text/x-python",
   "name": "python",
   "nbconvert_exporter": "python",
   "pygments_lexer": "ipython3",
   "version": "3.10.6"
  }
 },
 "nbformat": 4,
 "nbformat_minor": 5
}
