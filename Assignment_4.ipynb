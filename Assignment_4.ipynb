{
 "cells": [
  {
   "cell_type": "raw",
   "id": "ea26f20b-18c1-4286-adfb-efe894d5a547",
   "metadata": {},
   "source": [
    "Q1. Which two operator overloading methods can you use in your classes to support iteration?"
   ]
  },
  {
   "cell_type": "markdown",
   "id": "0c93cf29-1ae7-4461-8fab-2c72651fc0f6",
   "metadata": {},
   "source": [
    "Ans.\n",
    "Operator Overloading means giving extended meaning beyond their predefined operational meaning. For example operator + is used to add two integers as well as join two strings and merge two lists. It is achievable because ‘+’ operator is overloaded by int class and str class. You might have noticed that the same built-in operator or function shows different behavior for objects of different classes, this is called Operator Overloading. "
   ]
  },
  {
   "cell_type": "raw",
   "id": "8742fb43-1940-4eb1-bf5e-c60ea8c2710a",
   "metadata": {},
   "source": [
    "Q2. In what contexts do the two operator overloading methods manage printing?"
   ]
  },
  {
   "cell_type": "markdown",
   "id": "5def9a13-fdcf-4f37-8052-7a725f7d4230",
   "metadata": {},
   "source": [
    "Ans.\n",
    "There are two operator overloading methods that manage printing: _overloadImpliedPrint and _overloadPrint2. These methods are used to customize how an object is displayed when you call the print or printf procedures on it. The _overloadImpliedPrint method is called when you print an object without any format specifiers, while the _overloadPrint method is called when you print an object with format specifiers2."
   ]
  },
  {
   "cell_type": "raw",
   "id": "79b91b45-6057-48f0-8d5d-e3f68b57e8e4",
   "metadata": {},
   "source": [
    "Q3. In a class, how do you intercept slice operations?"
   ]
  },
  {
   "cell_type": "markdown",
   "id": "792238eb-843a-4e5a-8f71-cbe1957428c0",
   "metadata": {},
   "source": [
    "Ans.\n",
    "To intercept slice operations in a class, you need to override the getitem and setitem methods1. These methods are called when you try to access or modify an item using the slice notation, such as obj\n",
    "The getitem method takes two arguments: self and index. The index argument can be an integer or a slice object. You can check the type of the index and handle it accordingly\n",
    "The setitem method takes three arguments: self, index and value. The index argument can also be an integer or a slice object. The value argument is the new value that you want to assign to the item or the slice"
   ]
  },
  {
   "cell_type": "raw",
   "id": "80e84480-f52e-4e6d-8266-c957c8177db4",
   "metadata": {},
   "source": [
    "Q4. In a class, how do you capture in-place addition?"
   ]
  },
  {
   "cell_type": "markdown",
   "id": "b0a633e1-8a3f-4b6e-8724-4f9f59b0de9f",
   "metadata": {},
   "source": [
    "Ans.\n",
    "You can set up the in-place addition behavior for your own class by overriding the magic “dunder” method __iadd__(self, other) in your class definition."
   ]
  },
  {
   "cell_type": "raw",
   "id": "7fffca37-e45e-485e-965e-d3c76b86a5bc",
   "metadata": {},
   "source": []
  },
  {
   "cell_type": "markdown",
   "id": "1c2bd168-8e02-4a1a-a15c-237febaf2dc5",
   "metadata": {},
   "source": [
    "Ans.\n",
    "Overall, overloading boolean operators in a custom class can make your code more readable, consistent, concise, expressive, and functional. However, it's important to use operator overloading judiciously and only when it makes sense for the semantics of your class."
   ]
  }
 ],
 "metadata": {
  "kernelspec": {
   "display_name": "Python 3 (ipykernel)",
   "language": "python",
   "name": "python3"
  },
  "language_info": {
   "codemirror_mode": {
    "name": "ipython",
    "version": 3
   },
   "file_extension": ".py",
   "mimetype": "text/x-python",
   "name": "python",
   "nbconvert_exporter": "python",
   "pygments_lexer": "ipython3",
   "version": "3.10.6"
  }
 },
 "nbformat": 4,
 "nbformat_minor": 5
}
