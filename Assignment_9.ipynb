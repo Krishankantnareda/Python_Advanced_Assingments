{
 "cells": [
  {
   "cell_type": "raw",
   "id": "126d3adc-d368-4bdc-896e-63ee4662f966",
   "metadata": {},
   "source": [
    "Q1. In Python 3.X, what are the names and functions of string object types?"
   ]
  },
  {
   "cell_type": "markdown",
   "id": "99ea8a2c-08bc-4fee-bfcf-65c3cbc742da",
   "metadata": {},
   "source": [
    "In Python 3.X, there are three string object types: str, bytes, and bytearray.\n",
    "\n",
    "The str type is used to represent Unicode strings. It is the most commonly used string type in Python and is used to represent text data.\n",
    "\n",
    "The bytes type is used to represent binary data. It is similar to the str type, but it represents bytes instead of characters.\n",
    "\n",
    "The bytearray type is similar to the bytes type, but it is mutable. This means that you can modify the contents of a bytearray object after it has been created."
   ]
  },
  {
   "cell_type": "markdown",
   "id": "5179872d-2ae9-467f-9a4e-aee8ea442346",
   "metadata": {},
   "source": [
    "str.isalnum() -->\tString consists of only alphanumeric characters (no symbols)\n",
    "\n",
    "str.isalpha() -->\tString consists of only alphabetic characters (no symbols)\n",
    "\n",
    "str.islower() -->\tString’s alphabetic characters are all lower case\n",
    "\n",
    "str.isnumeric() -->\tString consists of only numeric characters\n",
    "\n",
    "str.isspace() -->\tString consists of only whitespace characters\n",
    "\n",
    "str.istitle() -->\tString is in title case\n",
    "\n",
    "str.isupper() -->\tString’s alphabetic characters are all upper case\n"
   ]
  },
  {
   "cell_type": "raw",
   "id": "28bd92e0-04e9-4e59-81f0-ff913602b01f",
   "metadata": {},
   "source": [
    "Q2. How do the string forms in Python 3.X vary in terms of operations?"
   ]
  },
  {
   "cell_type": "markdown",
   "id": "fcdf2b15-db76-4121-9c36-7f391ae67f3e",
   "metadata": {},
   "source": [
    "The type can be used with format codes just add a % symbol before them :\n",
    "\n",
    "*‘d’ for integers\n",
    "\n",
    "\n",
    "*‘f’ for floating-point numbers\n",
    "\n",
    "*‘b’ for binary numbers\n",
    "\n",
    "*‘o’ for octal numbers\n",
    "\n",
    "*‘x’ for octal hexadecimal numbers\n",
    "\n",
    "*‘s’ for string\n",
    "\n",
    "*‘e’ for floating-point in an exponent format"
   ]
  },
  {
   "cell_type": "raw",
   "id": "060f16cb-d6cc-4b85-ac7e-c7f5e0ffeefe",
   "metadata": {},
   "source": [
    "Q3. In 3.X, how do you put non-ASCII Unicode characters in a string?"
   ]
  },
  {
   "cell_type": "markdown",
   "id": "c5648dde-9147-4dd7-8324-699fb9496f43",
   "metadata": {},
   "source": [
    "Ans.\n",
    "In order to use non-ASCII characters, Python requires explicit encoding and decoding of strings into Unicode. we can check using the ascii value using ord()"
   ]
  },
  {
   "cell_type": "code",
   "execution_count": 1,
   "id": "9adbf013-9638-4236-9241-c4b17510ed61",
   "metadata": {},
   "outputs": [
    {
     "data": {
      "text/plain": [
       "115"
      ]
     },
     "execution_count": 1,
     "metadata": {},
     "output_type": "execute_result"
    }
   ],
   "source": [
    "ord(\"s\")"
   ]
  },
  {
   "cell_type": "raw",
   "id": "f33c5f1f-1cc1-4228-a59d-6b2bea71139d",
   "metadata": {},
   "source": [
    "Q4. In Python 3.X, what are the key differences between text-mode and binary-mode files?"
   ]
  },
  {
   "cell_type": "markdown",
   "id": "ea079075-1da3-413e-ba1a-1e30aa43c8fa",
   "metadata": {},
   "source": [
    " The major difference between these two is that a text file contains textual information in the form of alphabets, digits and special characters or symbols. On the other hand,\n",
    " \n",
    "A binary file contains bytes or a compiled version of a text file."
   ]
  },
  {
   "cell_type": "raw",
   "id": "c9f1ad46-bae4-4d22-865a-1e8d2cf1e587",
   "metadata": {},
   "source": [
    "Q5. How can you interpret a Unicode text file containing text encoded in a different encoding than\n",
    "your platform's default?"
   ]
  },
  {
   "cell_type": "markdown",
   "id": "5935d43c-9f56-4b07-aa77-560895d5478c",
   "metadata": {},
   "source": [
    "Ans.\n",
    "We can do it by hit and trieal trying different types of ending like utf-8, utf-16 etc."
   ]
  },
  {
   "cell_type": "raw",
   "id": "0768ac8d-e333-4313-83f0-1417fe9eafa9",
   "metadata": {},
   "source": [
    "Q6. What is the best way to make a Unicode text file in a particular encoding format?"
   ]
  },
  {
   "cell_type": "markdown",
   "id": "d284095c-37e0-4ee3-8f72-ecc33c343218",
   "metadata": {},
   "source": [
    "We should either use normal open() and encode the unicode yourself, or (usually a better idea) use codecs. open() and not encode the data yourself. Thus you have saved unicode e with a obfuscation mark on it to a file"
   ]
  },
  {
   "cell_type": "code",
   "execution_count": 2,
   "id": "e8a6efca-286c-48f4-8f1d-7942d5709d98",
   "metadata": {},
   "outputs": [
    {
     "name": "stdout",
     "output_type": "stream",
     "text": [
      "ʑʒʓʔʕʗʘʙʚʛʜʝʞ\n"
     ]
    }
   ],
   "source": [
    "\n",
    "unicode_text = u'ʑʒʓʔʕʗʘʙʚʛʜʝʞ'\n",
    "encoded_unicode = unicode_text.encode(\"utf8\")\n",
    "\n",
    "a_file = open(\"textfile.txt\", \"wb\")\n",
    "a_file.write(encoded_unicode)\n",
    "\n",
    "a_file = open(\"textfile.txt\", \"r\")#r reads contents of a file\n",
    "\n",
    "contents = a_file.read()\n",
    "\n",
    "print(contents)"
   ]
  },
  {
   "cell_type": "raw",
   "id": "aa47b89a-fc93-49b7-b3de-e5a6ce2338da",
   "metadata": {},
   "source": [
    "Q7. What qualifies ASCII text as a form of Unicode text?"
   ]
  },
  {
   "cell_type": "markdown",
   "id": "c63a5e82-4f37-4af6-a80a-504472096733",
   "metadata": {},
   "source": [
    "The first 128 Unicode code points represent the ASCII characters, which means that any ASCII text is also a UTF-8 text. As long as it contains no code points in the reserved range U+D800–U+DFFF, a UCS-2 text is valid UTF-16 text.ASCII also uses 7 and 8 bits for the representation of characters. A large number of characters used around the world which cannot be encoded by using 8-bit representation led to the creation of UTF-16 and UTF-32 encoding formats under Unicode encoding. Thus, ASCII is a subset of the Unicode encoding scheme."
   ]
  },
  {
   "cell_type": "raw",
   "id": "9b28ed33-277b-41e5-a7b0-df5fc55ca5af",
   "metadata": {},
   "source": [
    "Q8. How much of an effect does the change in string types in Python 3.X have on your code?"
   ]
  },
  {
   "cell_type": "markdown",
   "id": "1f1ae974-73a2-43cc-a805-8ad400cd707b",
   "metadata": {},
   "source": [
    "Ans.\n",
    "X's str and unicode types have morphed into 3. X's bytes and str types, and a new mutable bytearray type has been added. Especially if you process data that is either Unicode or binary in nature, this can have substantial impacts on your code."
   ]
  }
 ],
 "metadata": {
  "kernelspec": {
   "display_name": "Python 3 (ipykernel)",
   "language": "python",
   "name": "python3"
  },
  "language_info": {
   "codemirror_mode": {
    "name": "ipython",
    "version": 3
   },
   "file_extension": ".py",
   "mimetype": "text/x-python",
   "name": "python",
   "nbconvert_exporter": "python",
   "pygments_lexer": "ipython3",
   "version": "3.10.6"
  }
 },
 "nbformat": 4,
 "nbformat_minor": 5
}
