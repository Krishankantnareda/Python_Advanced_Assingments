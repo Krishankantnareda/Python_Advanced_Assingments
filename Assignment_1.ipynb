{
 "cells": [
  {
   "cell_type": "raw",
   "id": "97c40efa-51c3-4fde-ad57-1e3900cd8ead",
   "metadata": {},
   "source": [
    "What is the purpose of Python's OOP?"
   ]
  },
  {
   "cell_type": "markdown",
   "id": "bf8f2778-b71c-437a-888b-ddda2b5d1932",
   "metadata": {},
   "source": [
    "Ans.\n",
    "Object-Oriented Programming makes the program easy to understand as well as efficient. Since the class is sharable, the code can be reused. Data is safe and secure with data abstraction. Polymorphism allows the same interface for different objects, so programmers can write efficient code.\n",
    "The main concept of OOPs is to bind the data and the functions that work on that together as a single unit so that no other part of the code can access this data,"
   ]
  },
  {
   "cell_type": "raw",
   "id": "422ca003-4628-4f3e-9057-5afc48e313f2",
   "metadata": {},
   "source": [
    "Where does an inheritance search look for an attribute?"
   ]
  },
  {
   "cell_type": "markdown",
   "id": "8832fac8-5570-4072-acf5-43b4f2236e93",
   "metadata": {},
   "source": [
    "Ans \n",
    "An inheritance search looks for an attribute first in the instance object, then in the class the instance was created from, then in all higher superclasses, progressing from left to right (by default). The search stops at the first place the attribute is found."
   ]
  },
  {
   "cell_type": "raw",
   "id": "08b53781-9454-458d-bb06-b32953c42de1",
   "metadata": {},
   "source": [
    "How do you distinguish between a class object and an instance object?"
   ]
  },
  {
   "cell_type": "markdown",
   "id": "2a0a8555-f73f-4f03-a9fb-5dff668e6107",
   "metadata": {},
   "source": [
    "ANS.\n",
    "A class is a type of blueprint that you can use to make objects. A concrete 'thing' that you constructed using a certain class is an object, which is an instance of a class. So, while the terms 'object' and 'instance' are interchangeable, the term 'instance' refers to an object's relationship to its class"
   ]
  },
  {
   "cell_type": "raw",
   "id": "423de7e1-3549-4ee8-a45d-7c1d4f8bdcad",
   "metadata": {},
   "source": [
    "What makes the first argument in a class method function special?"
   ]
  },
  {
   "cell_type": "markdown",
   "id": "137916a7-353a-4f84-892e-dccf43818390",
   "metadata": {},
   "source": [
    "ANS.\n",
    "The calling process is automatic while the receiving process is not (its explicit). This is the reason the first parameter of a function in class must be the object itself. Writing this parameter as self is merely a convention"
   ]
  },
  {
   "cell_type": "raw",
   "id": "7e4a96b2-7281-4bcb-893d-aadd397c204d",
   "metadata": {},
   "source": [
    "What makes the first argument in a class method function special?"
   ]
  },
  {
   "cell_type": "markdown",
   "id": "28d250b1-240b-4e2a-916d-e6206dffa9c0",
   "metadata": {},
   "source": [
    "ANS.\n",
    "By contrast, when a class method is called from a either a class object or an instance object, the class object is automatically passed as the first argument to the method. Instead of calling this first argument self , the convention is to name it cls ."
   ]
  },
  {
   "cell_type": "raw",
   "id": "874b32f3-f8b9-4f89-ba6f-a01521d6903b",
   "metadata": {},
   "source": [
    "What is the purpose of the __init__ method?"
   ]
  },
  {
   "cell_type": "markdown",
   "id": "4903cee9-aeac-4738-9cde-1b2d0ee05f99",
   "metadata": {},
   "source": [
    "ANs.\n",
    "The __init__ method lets the class initialize the object's attributes and serves no other purpose"
   ]
  },
  {
   "cell_type": "raw",
   "id": "416389f0-784e-49c6-9d14-aded3c06defb",
   "metadata": {},
   "source": [
    "What is the process for creating a class instance?"
   ]
  },
  {
   "cell_type": "markdown",
   "id": "bb8fe0e9-e6c0-4631-9878-0b0a4dd7f907",
   "metadata": {},
   "source": [
    "ANS.\n",
    "To create instances of a class, you call the class using class name and pass in whatever arguments its __init__ method accepts."
   ]
  },
  {
   "cell_type": "raw",
   "id": "4803bcab-2e18-4d07-b6b4-9de347113c51",
   "metadata": {},
   "source": [
    "What is the process for creating a class?"
   ]
  },
  {
   "cell_type": "markdown",
   "id": "4818cbdb-6867-4dd7-a5c1-b026bf826daf",
   "metadata": {},
   "source": [
    "Ans.\n",
    "Creating a Class in Python\n",
    "Classes are created using class keyword.\n",
    "A colon (:) is used after the class name.\n",
    "The class is made up of attributes (data) and methods (functions).\n",
    "Attributes that apply to the whole class are defined first and are called class attributes .\n",
    "Attributes can be accessed using the dot (.)"
   ]
  },
  {
   "cell_type": "raw",
   "id": "d3f97ae9-4069-43bd-8534-1085d4febb51",
   "metadata": {},
   "source": [
    "How would you define the superclasses of a class?"
   ]
  },
  {
   "cell_type": "markdown",
   "id": "44afe5b9-cd18-4372-9bb6-8bda66701e01",
   "metadata": {},
   "source": [
    "Ans.\n",
    "Definitions: A class that is derived from another class is called a subclass (also a derived class, extended class, or child class). The class from which the subclass is derived is called a superclass (also a base class or a parent class)."
   ]
  }
 ],
 "metadata": {
  "kernelspec": {
   "display_name": "Python 3 (ipykernel)",
   "language": "python",
   "name": "python3"
  },
  "language_info": {
   "codemirror_mode": {
    "name": "ipython",
    "version": 3
   },
   "file_extension": ".py",
   "mimetype": "text/x-python",
   "name": "python",
   "nbconvert_exporter": "python",
   "pygments_lexer": "ipython3",
   "version": "3.10.6"
  }
 },
 "nbformat": 4,
 "nbformat_minor": 5
}
