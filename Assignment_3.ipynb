{
 "cells": [
  {
   "cell_type": "raw",
   "id": "0eaa74e2-9e86-4b7b-9c15-c0cf6f3ca6c4",
   "metadata": {},
   "source": [
    "1. What is the concept of an abstract superclass?"
   ]
  },
  {
   "cell_type": "markdown",
   "id": "fb27671d-adef-4d06-b08a-5c4530547a89",
   "metadata": {},
   "source": [
    "Ans.\n",
    "An abstract class can be considered as a blueprint for other classes. It allows you to create a set of methods that must be created within any child classes built from the abstract class. A class which contains one or more abstract methods is called an abstract class"
   ]
  },
  {
   "cell_type": "raw",
   "id": "545426aa-a49d-43d6-84a8-a1911da69abb",
   "metadata": {},
   "source": [
    "2. What happens when a class statement's top level contains a basic assignment statement?"
   ]
  },
  {
   "cell_type": "markdown",
   "id": "4e6d9dc9-73df-404a-870d-a8261feb85d4",
   "metadata": {},
   "source": [
    "Ans.\n",
    "In Python, a top-level statement is a statement that is executed when a module is imported3. It can include function and class definitions, as well as other imports3. A basic assignment statement is a statement that assigns a value to a variable, such as x = 10. If you write a basic assignment statement in the top level of a class statement, it will create a class attribute that can be accessed by the class or its instances."
   ]
  },
  {
   "cell_type": "raw",
   "id": "3a3c403f-4a3b-4b6f-aa32-4b918e75d8c2",
   "metadata": {},
   "source": [
    "3. Why does a class need to manually call a superclass&#39;s __init__ method?"
   ]
  },
  {
   "cell_type": "markdown",
   "id": "2e482cc3-8f9a-48a0-af64-460034b2e714",
   "metadata": {},
   "source": [
    "Ans.\n",
    "A class needs to manually call a superclass’s __init__ method in Python because it is not automatically invoked when a subclass is instantiated1. The __init__ method is a special method that is used to initialize the attributes of a class1. If a subclass inherits from a superclass, it may want to use some of the attributes or methods defined in the superclass. To do that, it needs to call the superclass’s __init__ method using the super() function"
   ]
  },
  {
   "cell_type": "raw",
   "id": "58c35b93-4146-4430-b63a-dad72ed4e377",
   "metadata": {},
   "source": [
    "4. How can you augment, instead of completely replacing, an inherited method?"
   ]
  },
  {
   "cell_type": "markdown",
   "id": "a0b4cc9d-f8c5-430f-b24b-dac59d968682",
   "metadata": {},
   "source": [
    "Ans.\n"
   ]
  },
  {
   "cell_type": "raw",
   "id": "33d9c48e-ce1b-47be-83fe-35855d404c6a",
   "metadata": {},
   "source": [
    "5. How is the local scope of a class different from that of a function?"
   ]
  }
 ],
 "metadata": {
  "kernelspec": {
   "display_name": "Python 3 (ipykernel)",
   "language": "python",
   "name": "python3"
  },
  "language_info": {
   "codemirror_mode": {
    "name": "ipython",
    "version": 3
   },
   "file_extension": ".py",
   "mimetype": "text/x-python",
   "name": "python",
   "nbconvert_exporter": "python",
   "pygments_lexer": "ipython3",
   "version": "3.10.6"
  }
 },
 "nbformat": 4,
 "nbformat_minor": 5
}
