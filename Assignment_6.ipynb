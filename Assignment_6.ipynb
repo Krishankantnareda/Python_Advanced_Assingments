{
 "cells": [
  {
   "cell_type": "raw",
   "id": "ccd0ca14-1825-4561-a993-592b2f772bb0",
   "metadata": {},
   "source": [
    "Q1. Describe three applications for exception processing."
   ]
  },
  {
   "cell_type": "markdown",
   "id": "088905d3-fbe4-473d-9eee-7e930b158a52",
   "metadata": {},
   "source": [
    "It can consist of 3 steps:\n",
    "a try block that encloses the code section which might throw an exception,\n",
    "one or more catch blocks that handle the exception and.\n",
    "a finally block which gets executed after the try block was successfully executed or a thrown exception was handled."
   ]
  },
  {
   "cell_type": "raw",
   "id": "287b8715-60ac-4b67-9310-d1942c908744",
   "metadata": {},
   "source": [
    "Q2. What happens if you don't do something extra to treat an exception?"
   ]
  },
  {
   "cell_type": "markdown",
   "id": "a1e81849-0e60-432d-82b2-6f8539a3e83a",
   "metadata": {},
   "source": [
    "When an exception occurred, if we don't handle it, the program terminates abruptly and the code past the line that caused the exception will not get executed"
   ]
  },
  {
   "cell_type": "raw",
   "id": "c6e5df1a-450c-443e-9696-9832f1e18828",
   "metadata": {},
   "source": [
    "Q3. What are your options for recovering from an exception in your script?"
   ]
  },
  {
   "cell_type": "markdown",
   "id": "4313b730-aefb-4e00-8df5-602f08eff192",
   "metadata": {},
   "source": [
    "we can also provide a generic except clause, which handles any exception. After the except clause(s), you can include an else-clause. The code in the else-block executes if the code in the try: block does not raise an exception."
   ]
  },
  {
   "cell_type": "raw",
   "id": "f7295a88-768c-4e85-af83-8beffb639b39",
   "metadata": {},
   "source": [
    "Q4. Describe two methods for triggering exceptions in your script."
   ]
  },
  {
   "cell_type": "markdown",
   "id": "492d5b31-ee7f-4d66-933a-380cda58c098",
   "metadata": {},
   "source": [
    "To avoid such kind of scenario, there are two methods to handle Python exceptions: Try – This method catches the exceptions raised by the program. Raise – Triggers an exception manually using custom exceptions"
   ]
  },
  {
   "cell_type": "raw",
   "id": "e16d33ab-9bac-4064-b9bf-a82c083bd4c0",
   "metadata": {},
   "source": [
    "Q5. Identify two methods for specifying actions to be executed at termination time, regardless of\n",
    "whether or not an exception exists."
   ]
  },
  {
   "cell_type": "markdown",
   "id": "d935d90b-1af1-4ff4-ad63-ebca8f3c9a61",
   "metadata": {},
   "source": [
    "finally block: In a try-except-finally construct, the code inside the finally block is executed regardless of whether an exception occurs or not. This makes it easy to build code that needs some ‘cleandown’ code executed (think of it as a try-finally block)\n",
    "\n",
    "context manager with the with statement:\n",
    "By implementing the __enter__() and __exit__() methods in a class, you can create a context manager that automatically handles resource allocation and deallocation. The __exit__() method takes care of releasing the resources occupied by the current code snippet. This method must be executed no matter what after we are done with the resources "
   ]
  }
 ],
 "metadata": {
  "kernelspec": {
   "display_name": "Python 3 (ipykernel)",
   "language": "python",
   "name": "python3"
  },
  "language_info": {
   "codemirror_mode": {
    "name": "ipython",
    "version": 3
   },
   "file_extension": ".py",
   "mimetype": "text/x-python",
   "name": "python",
   "nbconvert_exporter": "python",
   "pygments_lexer": "ipython3",
   "version": "3.10.6"
  }
 },
 "nbformat": 4,
 "nbformat_minor": 5
}
