{
 "cells": [
  {
   "cell_type": "raw",
   "id": "06e828d5-e3e3-4826-8b4f-2ae3cdeb2d60",
   "metadata": {},
   "source": [
    "Q1. Can you create a programme or function that employs both positive and negative indexing? Is\n",
    "there any repercussion if you do so?"
   ]
  },
  {
   "cell_type": "markdown",
   "id": "5697674a-a184-4b50-af7d-b589b3c6862f",
   "metadata": {},
   "source": [
    "Ans.\n",
    "Yes, it is possible to create a program or function that employs both positive and negative indexing.\n",
    "Positive indexing − Increases from 0 to 1. Negative indexing − each traversal moves from tail to head, starting with the last element.\n",
    "\n",
    "However, there are potential repercussions to consider, such as increased computational complexity and potential errors in the calculation of results. Additionally, the use of both positive and negative indexing may make the program or function more difficult to understand and debug.  "
   ]
  },
  {
   "cell_type": "raw",
   "id": "6d653d6e-ba92-4f1a-b66b-584ac6803ae1",
   "metadata": {},
   "source": [
    "Q2. What is the most effective way of starting with 1,000 elements in a Python list? Assume that all\n",
    "elements should be set to the same value."
   ]
  },
  {
   "cell_type": "markdown",
   "id": "47e5f693-7e72-4db1-b669-9c29f2e98d39",
   "metadata": {},
   "source": [
    " The most effective way of setting all elements in a Python list to the same value when starting with 1,000 elements is to use the for loop and append methed\n",
    " We create an empty an list and run a for loop for n times using the append() method to add elements to the list."
   ]
  },
  {
   "cell_type": "code",
   "execution_count": 1,
   "id": "ba1c2cee-bde1-4086-94ab-4de8393f0094",
   "metadata": {},
   "outputs": [
    {
     "name": "stdout",
     "output_type": "stream",
     "text": [
      "[1, 1, 1, 1, 1, 1, 1, 1, 1, 1, 1, 1, 1, 1, 1, 1, 1, 1, 1, 1, 1, 1, 1, 1, 1, 1, 1, 1, 1, 1, 1, 1, 1, 1, 1, 1, 1, 1, 1, 1, 1, 1, 1, 1, 1, 1, 1, 1, 1, 1, 1, 1, 1, 1, 1, 1, 1, 1, 1, 1, 1, 1, 1, 1, 1, 1, 1, 1, 1, 1, 1, 1, 1, 1, 1, 1, 1, 1, 1, 1, 1, 1, 1, 1, 1, 1, 1, 1, 1, 1, 1, 1, 1, 1, 1, 1, 1, 1, 1, 1, 1, 1, 1, 1, 1, 1, 1, 1, 1, 1, 1, 1, 1, 1, 1, 1, 1, 1, 1, 1, 1, 1, 1, 1, 1, 1, 1, 1, 1, 1, 1, 1, 1, 1, 1, 1, 1, 1, 1, 1, 1, 1, 1, 1, 1, 1, 1, 1, 1, 1, 1, 1, 1, 1, 1, 1, 1, 1, 1, 1, 1, 1, 1, 1, 1, 1, 1, 1, 1, 1, 1, 1, 1, 1, 1, 1, 1, 1, 1, 1, 1, 1, 1, 1, 1, 1, 1, 1, 1, 1, 1, 1, 1, 1, 1, 1, 1, 1, 1, 1, 1, 1, 1, 1, 1, 1, 1, 1, 1, 1, 1, 1, 1, 1, 1, 1, 1, 1, 1, 1, 1, 1, 1, 1, 1, 1, 1, 1, 1, 1, 1, 1, 1, 1, 1, 1, 1, 1, 1, 1, 1, 1, 1, 1, 1, 1, 1, 1, 1, 1, 1, 1, 1, 1, 1, 1, 1, 1, 1, 1, 1, 1, 1, 1, 1, 1, 1, 1, 1, 1, 1, 1, 1, 1, 1, 1, 1, 1, 1, 1, 1, 1, 1, 1, 1, 1, 1, 1, 1, 1, 1, 1, 1, 1, 1, 1, 1, 1, 1, 1, 1, 1, 1, 1, 1, 1, 1, 1, 1, 1, 1, 1, 1, 1, 1, 1, 1, 1, 1, 1, 1, 1, 1, 1, 1, 1, 1, 1, 1, 1, 1, 1, 1, 1, 1, 1, 1, 1, 1, 1, 1, 1, 1, 1, 1, 1, 1, 1, 1, 1, 1, 1, 1, 1, 1, 1, 1, 1, 1, 1, 1, 1, 1, 1, 1, 1, 1, 1, 1, 1, 1, 1, 1, 1, 1, 1, 1, 1, 1, 1, 1, 1, 1, 1, 1, 1, 1, 1, 1, 1, 1, 1, 1, 1, 1, 1, 1, 1, 1, 1, 1, 1, 1, 1, 1, 1, 1, 1, 1, 1, 1, 1, 1, 1, 1, 1, 1, 1, 1, 1, 1, 1, 1, 1, 1, 1, 1, 1, 1, 1, 1, 1, 1, 1, 1, 1, 1, 1, 1, 1, 1, 1, 1, 1, 1, 1, 1, 1, 1, 1, 1, 1, 1, 1, 1, 1, 1, 1, 1, 1, 1, 1, 1, 1, 1, 1, 1, 1, 1, 1, 1, 1, 1, 1, 1, 1, 1, 1, 1, 1, 1, 1, 1, 1, 1, 1, 1, 1, 1, 1, 1, 1, 1, 1, 1, 1, 1, 1, 1, 1, 1, 1, 1, 1, 1, 1, 1, 1, 1, 1, 1, 1, 1, 1, 1, 1, 1, 1, 1, 1, 1, 1, 1, 1, 1, 1, 1, 1, 1, 1, 1, 1, 1, 1, 1, 1, 1, 1, 1, 1, 1, 1, 1, 1, 1, 1, 1, 1, 1, 1, 1, 1, 1, 1, 1, 1, 1, 1, 1, 1, 1, 1, 1, 1, 1, 1, 1, 1, 1, 1, 1, 1, 1, 1, 1, 1, 1, 1, 1, 1, 1, 1, 1, 1, 1, 1, 1, 1, 1, 1, 1, 1, 1, 1, 1, 1, 1, 1, 1, 1, 1, 1, 1, 1, 1, 1, 1, 1, 1, 1, 1, 1, 1, 1, 1, 1, 1, 1, 1, 1, 1, 1, 1, 1, 1, 1, 1, 1, 1, 1, 1, 1, 1, 1, 1, 1, 1, 1, 1, 1, 1, 1, 1, 1, 1, 1, 1, 1, 1, 1, 1, 1, 1, 1, 1, 1, 1, 1, 1, 1, 1, 1, 1, 1, 1, 1, 1, 1, 1, 1, 1, 1, 1, 1, 1, 1, 1, 1, 1, 1, 1, 1, 1, 1, 1, 1, 1, 1, 1, 1, 1, 1, 1, 1, 1, 1, 1, 1, 1, 1, 1, 1, 1, 1, 1, 1, 1, 1, 1, 1, 1, 1, 1, 1, 1, 1, 1, 1, 1, 1, 1, 1, 1, 1, 1, 1, 1, 1, 1, 1, 1, 1, 1, 1, 1, 1, 1, 1, 1, 1, 1, 1, 1, 1, 1, 1, 1, 1, 1, 1, 1, 1, 1, 1, 1, 1, 1, 1, 1, 1, 1, 1, 1, 1, 1, 1, 1, 1, 1, 1, 1, 1, 1, 1, 1, 1, 1, 1, 1, 1, 1, 1, 1, 1, 1, 1, 1, 1, 1, 1, 1, 1, 1, 1, 1, 1, 1, 1, 1, 1, 1, 1, 1, 1, 1, 1, 1, 1, 1, 1, 1, 1, 1, 1, 1, 1, 1, 1, 1, 1, 1, 1, 1, 1, 1, 1, 1, 1, 1, 1, 1, 1, 1, 1, 1, 1, 1, 1, 1, 1, 1, 1, 1, 1, 1, 1, 1, 1, 1, 1, 1, 1, 1, 1, 1, 1, 1, 1, 1, 1, 1, 1, 1, 1, 1, 1, 1, 1, 1, 1, 1, 1, 1, 1, 1, 1, 1, 1, 1, 1, 1, 1, 1, 1, 1, 1, 1, 1, 1, 1, 1, 1, 1, 1, 1, 1, 1, 1, 1, 1, 1, 1, 1, 1, 1, 1, 1, 1, 1, 1, 1, 1, 1, 1, 1, 1, 1, 1, 1, 1, 1, 1, 1, 1, 1, 1, 1, 1, 1, 1, 1, 1, 1, 1, 1, 1, 1, 1, 1, 1, 1, 1, 1, 1, 1, 1, 1, 1, 1, 1, 1, 1, 1, 1, 1, 1, 1, 1, 1, 1, 1, 1, 1, 1, 1, 1, 1, 1, 1, 1, 1, 1, 1, 1, 1, 1, 1, 1, 1, 1, 1, 1, 1, 1, 1, 1, 1, 1, 1, 1, 1, 1, 1, 1, 1, 1, 1, 1, 1, 1]\n"
     ]
    }
   ],
   "source": [
    "arr = []\n",
    "for i in range(1000):\n",
    "    arr.append(1)\n",
    "print(arr)"
   ]
  },
  {
   "cell_type": "raw",
   "id": "343064c4-fa74-435b-8ded-dc404eca821e",
   "metadata": {},
   "source": [
    "Q3. How do you slice a list to get any other part while missing the rest? (For example, suppose you\n",
    "want to make a new list with the elements first, third, fifth, seventh, and so on.)"
   ]
  },
  {
   "cell_type": "markdown",
   "id": "cd06bda4-b9c6-4e45-aa5f-cf5fe87aa6b8",
   "metadata": {},
   "source": [
    "To slice a list and extract any specific part while missing the rest, you can use the `slice()` method with a range index. For example, to get the elements `first`, `third`, `fifth`, `seventh`, and so on, you can use `lis[::2]`"
   ]
  },
  {
   "cell_type": "code",
   "execution_count": 2,
   "id": "df785747-9767-440b-9645-91c6aa8e3489",
   "metadata": {},
   "outputs": [
    {
     "data": {
      "text/plain": [
       "[1, 3, 5, 7, 9, 11, 13, 15, 17, 19]"
      ]
     },
     "execution_count": 2,
     "metadata": {},
     "output_type": "execute_result"
    }
   ],
   "source": [
    "lis = [] \n",
    "for i in range(1,21):\n",
    "    lis.append(i)\n",
    "lis[::2]"
   ]
  },
  {
   "cell_type": "raw",
   "id": "910a0074-3fac-451f-8357-79f564526423",
   "metadata": {},
   "source": [
    "Q4. Explain the distinctions between indexing and slicing."
   ]
  },
  {
   "cell_type": "markdown",
   "id": "a3015b0d-9da2-42cc-85fb-69c998329ae0",
   "metadata": {},
   "source": [
    "Ans.\n",
    "Indexing and slicing are both data manipulation techniques in Python, but they serve different purposes. Indexing refers to accessing specific elements of a list or other iterable using a numerical index, while slicing refers to extracting a subset of elements from a list or other iterable using a range of values. In other words, indexing allows you to access a single element, while slicing allows you to select a range of elements.  \n"
   ]
  },
  {
   "cell_type": "code",
   "execution_count": 3,
   "id": "e39e8a43-7597-4532-b062-ed5952c6b66a",
   "metadata": {},
   "outputs": [
    {
     "name": "stdout",
     "output_type": "stream",
     "text": [
      "5\n",
      "[3, 4, 5, 6]\n"
     ]
    }
   ],
   "source": [
    "lis\n",
    "print(lis[4]) # this is indexing \n",
    "print(lis[2:6:1]) # here is the use of slicig"
   ]
  },
  {
   "cell_type": "raw",
   "id": "05192a2e-e431-411b-825a-33fb1597ab10",
   "metadata": {},
   "source": [
    "Q5. What happens if one of the slicing expression's indexes is out of range?"
   ]
  },
  {
   "cell_type": "markdown",
   "id": "61c9fa61-6759-4398-a311-857e5a0f1caf",
   "metadata": {},
   "source": [
    "The slicing operation doesn’t raise an error if both your start and stop indices are larger than the sequence length. This is in contrast to simple indexing—if you index an element that is out of bounds, Python will throw an index out of bounds error. However, with slicing it simply returns an empty sequence."
   ]
  },
  {
   "cell_type": "code",
   "execution_count": 4,
   "id": "9f933f3c-b041-4669-a2f3-b40ded95594f",
   "metadata": {},
   "outputs": [
    {
     "data": {
      "text/plain": [
       "''"
      ]
     },
     "execution_count": 4,
     "metadata": {},
     "output_type": "execute_result"
    }
   ],
   "source": [
    "s = 'hello'\n",
    "s[100:200]\n"
   ]
  },
  {
   "cell_type": "code",
   "execution_count": 5,
   "id": "8ffe433a-05d2-4658-8fa2-0e7092ec4e58",
   "metadata": {},
   "outputs": [
    {
     "data": {
      "text/plain": [
       "[]"
      ]
     },
     "execution_count": 5,
     "metadata": {},
     "output_type": "execute_result"
    }
   ],
   "source": [
    "lst = [1, 2, 3]\n",
    "lst[100:200]\n"
   ]
  },
  {
   "cell_type": "raw",
   "id": "3b60b12e-4755-4a30-a932-21a54d114d7d",
   "metadata": {},
   "source": [
    "Q6. If you pass a list to a function, and if you want the function to be able to change the values of the\n",
    "list—so that the list is different after the function returns—what action should you avoid?"
   ]
  },
  {
   "cell_type": "markdown",
   "id": "8adb86d2-8004-4c86-bdb8-e2067115659c",
   "metadata": {},
   "source": [
    "Ans.\n",
    "the list will change list are mutable but we can also prevent that by creating a deepcopy of it before.\n",
    "To avoid changing the original list passed to a function, we cam avoid modifying the list directly within the function. Instead, create a copy of the list and modify the copy. This ensures that the original list remains unchanged, while the modified copy is returned from the function.  "
   ]
  },
  {
   "cell_type": "raw",
   "id": "5354c6ad-89e6-4efc-b40f-7143648e31ef",
   "metadata": {},
   "source": [
    "Q7. What is the concept of an unbalanced matrix?Q7. What is the concept of an unbalanced matrix?"
   ]
  },
  {
   "cell_type": "markdown",
   "id": "568aeb64-14d9-4f57-8253-3a21e10acffd",
   "metadata": {},
   "source": [
    "Ans.\n",
    "An unbalanced matrix is a matrix that has a different number of rows and columns. In other words, the matrix is not square. This can occur when data is not equally distributed across different variables, leading to an imbalance in the representation of the data. Unbalanced matrices can make it difficult to analyze and interpret the data.\n"
   ]
  },
  {
   "cell_type": "code",
   "execution_count": 6,
   "id": "3dd310b1-2c56-473a-beaa-acb469cb8027",
   "metadata": {},
   "outputs": [
    {
     "name": "stdout",
     "output_type": "stream",
     "text": [
      "Unbalanced\n"
     ]
    }
   ],
   "source": [
    "N = 4 # # Define the size of the matrix\n",
    "M = 4\n",
    " \n",
    "# Function to check given matrix if this matrix is balanced or unbalenced\n",
    "def balancedMatrix(mat):\n",
    "     \n",
    "    # Flag for check matrix is balanced\n",
    "    # or unbalanced\n",
    "    is_balanced = True\n",
    "     \n",
    "    # Iterate row until condition is true\n",
    "    i = 0\n",
    "    while i < N and is_balanced:\n",
    "         \n",
    "        # Iterate cols until condition is true\n",
    "        j = 0\n",
    "        while j < N and is_balanced:\n",
    "             \n",
    "            # Check for corner edge elements\n",
    "            if ((i == 0 or i == N - 1) and\n",
    "                (j == 0 or j == M - 1)):\n",
    "                if mat[i][j] >= 2:\n",
    "                    isbalanced = False\n",
    "             \n",
    "            # Check for border elements\n",
    "            elif (i == 0 or i == N - 1 or\n",
    "                  j == 0 or j == M - 1):\n",
    "                if mat[i][j] >= 3:\n",
    "                    is_balanced = False\n",
    "                     \n",
    "            # Check for the middle ones\n",
    "            else:\n",
    "                if mat[i][j] >= 4:\n",
    "                    is_balanced = False\n",
    "             \n",
    "            j += 1\n",
    "        i += 1\n",
    "         \n",
    "    # Return balanced or not\n",
    "    if is_balanced:\n",
    "        return \"Balanced\"\n",
    "    else:\n",
    "        return \"Unbalanced\"\n",
    "     \n",
    "# Driver code\n",
    " \n",
    "# Given matrix mat[][]\n",
    "mat = [ [ 1, 2, 3, 4 ],\n",
    "        [ 3, 5, 2, 6 ],\n",
    "        [ 5, 3, 6, 1 ],\n",
    "        [ 9, 5, 6, 0 ] ]\n",
    " \n",
    "# Function call\n",
    "print(balancedMatrix(mat))"
   ]
  },
  {
   "cell_type": "raw",
   "id": "34f44603-c551-4e3d-ba0d-5ec2f3561249",
   "metadata": {},
   "source": [
    "Q 8 Why is it necessary to use either list comprehension or a loop to create arbitrarily large matrices?"
   ]
  },
  {
   "cell_type": "markdown",
   "id": "95e4ff0b-823a-4dd3-91e1-c7616ded883f",
   "metadata": {},
   "source": [
    "Ans.\n",
    "Using either list comprehension or a loop is necessary to create arbitrarily large matrices because both methods allow for the efficient creation of matrices of varying sizes. List comprehensions are particularly useful when working with large datasets, as they can be more concise and easier to read than loops. However, loops can be more flexible and allow for more control over the matrix creation process.  "
   ]
  }
 ],
 "metadata": {
  "kernelspec": {
   "display_name": "Python 3 (ipykernel)",
   "language": "python",
   "name": "python3"
  },
  "language_info": {
   "codemirror_mode": {
    "name": "ipython",
    "version": 3
   },
   "file_extension": ".py",
   "mimetype": "text/x-python",
   "name": "python",
   "nbconvert_exporter": "python",
   "pygments_lexer": "ipython3",
   "version": "3.10.6"
  }
 },
 "nbformat": 4,
 "nbformat_minor": 5
}
